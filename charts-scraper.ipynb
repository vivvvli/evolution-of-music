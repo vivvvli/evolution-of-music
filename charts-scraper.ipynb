{
 "cells": [
  {
   "cell_type": "code",
   "execution_count": 1,
   "metadata": {},
   "outputs": [],
   "source": [
    "from urllib.request import urlopen\n",
    "from bs4 import BeautifulSoup, Comment\n",
    "import pandas as pd\n",
    "import requests\n",
    "import numpy as np"
   ]
  },
  {
   "cell_type": "code",
   "execution_count": 17,
   "metadata": {},
   "outputs": [],
   "source": [
    "page = requests.get(\"https://spotifycharts.com/regional/global/daily/2017-12-24\")\n",
    "\n",
    "song_soup = BeautifulSoup(page.content, 'html.parser')"
   ]
  },
  {
   "cell_type": "code",
   "execution_count": 59,
   "metadata": {},
   "outputs": [],
   "source": [
    "rank = list(song_soup)[2].findAll(\"td\",{'class': 'chart-table-position'})[0].text\n",
    "artist = list(song_soup)[2].findAll(\"td\",{'class': 'chart-table-track'})[0].span.text[3:]\n",
    "song_name = list(song_soup)[2].findAll(\"td\",{'class': 'chart-table-track'})[0].strong.text"
   ]
  },
  {
   "cell_type": "code",
   "execution_count": 64,
   "metadata": {},
   "outputs": [],
   "source": []
  },
  {
   "cell_type": "code",
   "execution_count": 65,
   "metadata": {},
   "outputs": [
    {
     "data": {
      "text/plain": [
       "<td class=\"chart-table-trend\">\n",
       "<div class=\"chart-table-trend__icon\">\n",
       "<svg fill=\"#3e3e40\" version=\"1.1\" viewbox=\"0 0 12 12\" x=\"0\" y=\"0\"><rect height=\"3\" width=\"12\" y=\"4.5\"></rect></svg>\n",
       "</div>\n",
       "</td>"
      ]
     },
     "execution_count": 65,
     "metadata": {},
     "output_type": "execute_result"
    }
   ],
   "source": []
  },
  {
   "cell_type": "code",
   "execution_count": null,
   "metadata": {},
   "outputs": [],
   "source": []
  }
 ],
 "metadata": {
  "kernelspec": {
   "display_name": "Python 3",
   "language": "python",
   "name": "python3"
  },
  "language_info": {
   "codemirror_mode": {
    "name": "ipython",
    "version": 3
   },
   "file_extension": ".py",
   "mimetype": "text/x-python",
   "name": "python",
   "nbconvert_exporter": "python",
   "pygments_lexer": "ipython3",
   "version": "3.8.3"
  }
 },
 "nbformat": 4,
 "nbformat_minor": 4
}

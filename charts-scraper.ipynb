{
 "cells": [
  {
   "cell_type": "code",
   "execution_count": 1,
   "metadata": {},
   "outputs": [],
   "source": [
    "from urllib.request import urlopen\n",
    "from bs4 import BeautifulSoup, Comment\n",
    "import pandas as pd\n",
    "import requests\n",
    "import numpy as np"
   ]
  },
  {
   "cell_type": "code",
   "execution_count": 2,
   "metadata": {},
   "outputs": [],
   "source": [
    "def append_song_stats(row,year):\n",
    "    song_list = []\n",
    "    for each in range(0,200):\n",
    "        song = []\n",
    "        rank = list(song_soup)[2].findAll(\"td\",{'class': 'chart-table-position'})[each].text\n",
    "        artist = list(song_soup)[2].findAll(\"td\",{'class': 'chart-table-track'})[each].span.text[3:]\n",
    "        song_name = list(song_soup)[2].findAll(\"td\",{'class': 'chart-table-track'})[each].strong.text\n",
    "        streams = list(song_soup)[2].findAll(\"td\",{'class': 'chart-table-streams'})[each].text\n",
    "        streams = streams.replace(',', '')\n",
    "        url = list(song_soup)[2].findAll(\"td\",{'class': 'chart-table-image'})[each].a['href']\n",
    "        song.append(rank)\n",
    "        song.append(artist)\n",
    "        song.append(song_name)\n",
    "        song.append(streams)\n",
    "        song.append(url)\n",
    "        song_list.append(song)\n",
    "    return song_list"
   ]
  },
  {
   "cell_type": "code",
   "execution_count": 3,
   "metadata": {},
   "outputs": [
    {
     "name": "stdout",
     "output_type": "stream",
     "text": [
      "2017-01-01 successfully processed\n",
      "2017-02-01 successfully processed\n",
      "2017-03-01 successfully processed\n",
      "2017-04-01 successfully processed\n",
      "2017-05-01 successfully processed\n",
      "2017-06-01 successfully processed\n",
      "2017-07-01 successfully processed\n",
      "2017-08-01 successfully processed\n",
      "2017-09-01 successfully processed\n",
      "2017-10-01 successfully processed\n",
      "2017-11-01 successfully processed\n",
      "2017-12-01 successfully processed\n",
      "2018-01-01 successfully processed\n",
      "2018-02-01 successfully processed\n",
      "2018-03-01 successfully processed\n",
      "2018-04-01 successfully processed\n",
      "2018-05-01 successfully processed\n",
      "2018-06-01 successfully processed\n",
      "2018-07-01 successfully processed\n",
      "2018-08-01 successfully processed\n",
      "2018-09-01 successfully processed\n",
      "2018-10-01 successfully processed\n",
      "2018-11-01 successfully processed\n",
      "2018-12-01 successfully processed\n",
      "2019-01-01 successfully processed\n",
      "2019-02-01 successfully processed\n",
      "2019-03-01 successfully processed\n",
      "2019-04-01 successfully processed\n",
      "2019-05-01 successfully processed\n",
      "2019-06-01 successfully processed\n",
      "2019-07-01 successfully processed\n",
      "2019-08-01 successfully processed\n",
      "2019-09-01 successfully processed\n",
      "2019-10-01 successfully processed\n",
      "2019-11-01 successfully processed\n",
      "2019-12-01 successfully processed\n",
      "2020-01-01 successfully processed\n",
      "2020-02-01 successfully processed\n",
      "2020-03-01 successfully processed\n",
      "2020-04-01 successfully processed\n",
      "2020-05-01 successfully processed\n",
      "2020-06-01 successfully processed\n",
      "2020-07-01 successfully processed\n",
      "2020-08-01 successfully processed\n",
      "2020-09-01 successfully processed\n",
      "2020-10-01 successfully processed\n",
      "2020-11-01 successfully processed\n",
      "2020-12-01 successfully processed\n",
      "Scraping Completed!\n"
     ]
    }
   ],
   "source": [
    "# Initialize .csv writer\n",
    "writer = pd.ExcelWriter('spotify_charts.xlsx', engine='xlsxwriter')\n",
    "\n",
    "# Push data to .csv file (1 sheet per year)\n",
    "# Spotify Global charts data only dates back to 2017\n",
    "for year in range(2017,2021):\n",
    "    for month in range(1,13):\n",
    "        year_month = str(year) + '-' + str(month).zfill(2)\n",
    "        url = \"https://spotifycharts.com/regional/global/daily/{}-01\".format(year_month)\n",
    "        page = requests.get(url)\n",
    "        song_soup = BeautifulSoup(page.content, 'html.parser')\n",
    "\n",
    "        rows = song_soup.findAll('tr')\n",
    "        headers = ['rank',\n",
    "                       'artist',\n",
    "                       'song_name',\n",
    "                        'stream',\n",
    "                        'url'\n",
    "                      ]\n",
    "\n",
    "        song_list = append_song_stats(rows, year_month)\n",
    "        print(year_month + '-01' + ' successfully processed')\n",
    "        stats = pd.DataFrame(song_list, columns = headers)\n",
    "        stats.to_excel(writer, sheet_name='chart_data_{}'.format(year_month), index = False)\n",
    "    \n",
    "# Save .csv data\n",
    "print('Scraping Completed!')\n",
    "writer.save()"
   ]
  },
  {
   "cell_type": "code",
   "execution_count": null,
   "metadata": {},
   "outputs": [],
   "source": []
  }
 ],
 "metadata": {
  "kernelspec": {
   "display_name": "Python 3",
   "language": "python",
   "name": "python3"
  },
  "language_info": {
   "codemirror_mode": {
    "name": "ipython",
    "version": 3
   },
   "file_extension": ".py",
   "mimetype": "text/x-python",
   "name": "python",
   "nbconvert_exporter": "python",
   "pygments_lexer": "ipython3",
   "version": "3.8.3"
  }
 },
 "nbformat": 4,
 "nbformat_minor": 4
}

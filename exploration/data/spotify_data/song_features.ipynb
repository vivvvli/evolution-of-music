{
 "cells": [
  {
   "cell_type": "code",
   "execution_count": 6,
   "metadata": {},
   "outputs": [],
   "source": [
    "import numpy as np\n",
    "import matplotlib.pyplot as plt\n",
    "import pandas as pd\n",
    "import os\n",
    "import main\n",
    "sp = main.sp"
   ]
  },
  {
   "cell_type": "code",
   "execution_count": 7,
   "metadata": {},
   "outputs": [],
   "source": [
    "# import scraped song stats from Excel file\n",
    "\n",
    "xls = pd.ExcelFile('spotify_charts.xlsx')\n",
    "\n",
    "map = {}\n",
    "for sheet_name in xls.sheet_names:\n",
    "    map[sheet_name] = xls.parse(sheet_name)"
   ]
  },
  {
   "cell_type": "code",
   "execution_count": 8,
   "metadata": {},
   "outputs": [],
   "source": [
    "# function for splitting the list of songs; spotify API only takes 100 at a time \n",
    "\n",
    "def split_list(list_name):\n",
    "    half = len(list_name)//2\n",
    "    return list_name[:half], list_name[half:]"
   ]
  },
  {
   "cell_type": "code",
   "execution_count": 9,
   "metadata": {},
   "outputs": [],
   "source": [
    "def add_song_features(list_of_songs):\n",
    "    # create dataframe for list of first 100 songs\n",
    "    songs_dataframe = pd.DataFrame(data=list_of_songs)\n",
    "\n",
    "    # loop through 100 songs and get track ids\n",
    "    tracks_list=[]\n",
    "    for url in list_of_songs['url']:\n",
    "        track_id = url.replace('https://open.spotify.com/track/','')\n",
    "        tracks_list.append(track_id)\n",
    "\n",
    "    # create new column in songs dataframe and add track ids\n",
    "    songs_dataframe['id'] = tracks_list\n",
    "\n",
    "    # use sp.audio_features method to get track features using spotify API\n",
    "    features = []\n",
    "    features.append(sp.audio_features(tracks=songs_dataframe['id']))\n",
    "\n",
    "    # loop through features found and convert to a list of values\n",
    "    features_list = []\n",
    "    for each in features[0]:\n",
    "        values = list(each.values())\n",
    "        features_list.append(values)\n",
    "\n",
    "    # create features dataframe and add values from features_list to it\n",
    "    features_dataframe = pd.DataFrame(columns=features[0][0].keys(),data=features_list)\n",
    "\n",
    "    # merge songs_dataframe and features_dataframe into one big dataframe; merge on track id\n",
    "    final_dataframe = pd.merge(songs_dataframe,features_dataframe,on='id')\n",
    "    # rename some columns\n",
    "    final_dataframe = final_dataframe.rename(columns={\"id\": \"track_id\",\"stream\":\"num_streams\"})\n",
    "    \n",
    "    return final_dataframe"
   ]
  },
  {
   "cell_type": "code",
   "execution_count": 10,
   "metadata": {},
   "outputs": [],
   "source": [
    "writer = pd.ExcelWriter('spotify_charts_features.xlsx', engine='xlsxwriter')\n",
    "\n",
    "for year_month in map:\n",
    "    first_100, last_100 = split_list(map[year_month])\n",
    "    x = add_song_features(first_100)\n",
    "    x.to_excel(writer, sheet_name='first_100_{}'.format(year_month), index = False)\n",
    "    y = add_song_features(last_100)\n",
    "    y.to_excel(writer, sheet_name='last_100_{}'.format(year_month), index = False)\n",
    "\n",
    "writer.save()"
   ]
  },
  {
   "cell_type": "code",
   "execution_count": null,
   "metadata": {},
   "outputs": [],
   "source": []
  }
 ],
 "metadata": {
  "kernelspec": {
   "display_name": "Python 3",
   "language": "python",
   "name": "python3"
  },
  "language_info": {
   "codemirror_mode": {
    "name": "ipython",
    "version": 3
   },
   "file_extension": ".py",
   "mimetype": "text/x-python",
   "name": "python",
   "nbconvert_exporter": "python",
   "pygments_lexer": "ipython3",
   "version": "3.8.3"
  }
 },
 "nbformat": 4,
 "nbformat_minor": 4
}

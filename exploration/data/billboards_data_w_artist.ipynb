{
 "cells": [
  {
   "cell_type": "code",
   "execution_count": 11,
   "metadata": {},
   "outputs": [],
   "source": [
    "import numpy as np\n",
    "import matplotlib.pyplot as plt\n",
    "import pandas as pd\n",
    "import seaborn as sns\n",
    "import main\n",
    "import nbimporter\n",
    "from collections import Counter\n",
    "sp = main.sp\n",
    "\n",
    "billboards_data = pd.read_csv(\"/Users/vivianli/Documents/Data Science/evolution-of-music/exploration/data/billboards_data.csv\")"
   ]
  },
  {
   "cell_type": "code",
   "execution_count": 12,
   "metadata": {},
   "outputs": [],
   "source": [
    "def listToString(s): \n",
    "\n",
    "    # initialize an empty string\n",
    "    str1 = \", \" \n",
    "    # return string  \n",
    "    return (str1.join(s))"
   ]
  },
  {
   "cell_type": "code",
   "execution_count": null,
   "metadata": {},
   "outputs": [],
   "source": [
    "for idx, row in billboards_data.iterrows():\n",
    "    try:\n",
    "        artist_id = sp.search(q='artist:'+row['song_artist'])['tracks']['items'][0]['album']['artists'][0]['id']\n",
    "        billboards_data.loc[idx,'artist_id'] = artist_id\n",
    "        billboards_data.loc[idx,'artist_genres'] = listToString(sp.artist(artist_id)['genres'])\n",
    "        billboards_data.loc[idx,'artist_followers']= sp.artist(artist_id)['followers']['total']\n",
    "        billboards_data.loc[idx,'artist_popularity']= sp.artist(artist_id)['popularity']\n",
    "    except:\n",
    "        pass\n"
   ]
  },
  {
   "cell_type": "code",
   "execution_count": null,
   "metadata": {},
   "outputs": [],
   "source": [
    "billboards_data.to_csv('billboards_data_w_artist_data.csv')"
   ]
  },
  {
   "cell_type": "code",
   "execution_count": null,
   "metadata": {},
   "outputs": [],
   "source": []
  },
  {
   "cell_type": "code",
   "execution_count": 13,
   "metadata": {},
   "outputs": [],
   "source": [
    "# this block of code is the same as above but redoing years 2015 - 2020; the above one timed out before finishing\n",
    "new = billboards_data.loc[billboards_data['date'] >='2015-01-01' ]"
   ]
  },
  {
   "cell_type": "code",
   "execution_count": 14,
   "metadata": {},
   "outputs": [
    {
     "name": "stderr",
     "output_type": "stream",
     "text": [
      "/Users/vivianli/anaconda3/lib/python3.8/site-packages/pandas/core/indexing.py:845: SettingWithCopyWarning: \n",
      "A value is trying to be set on a copy of a slice from a DataFrame.\n",
      "Try using .loc[row_indexer,col_indexer] = value instead\n",
      "\n",
      "See the caveats in the documentation: https://pandas.pydata.org/pandas-docs/stable/user_guide/indexing.html#returning-a-view-versus-a-copy\n",
      "  self.obj[key] = _infer_fill_value(value)\n",
      "/Users/vivianli/anaconda3/lib/python3.8/site-packages/pandas/core/indexing.py:966: SettingWithCopyWarning: \n",
      "A value is trying to be set on a copy of a slice from a DataFrame.\n",
      "Try using .loc[row_indexer,col_indexer] = value instead\n",
      "\n",
      "See the caveats in the documentation: https://pandas.pydata.org/pandas-docs/stable/user_guide/indexing.html#returning-a-view-versus-a-copy\n",
      "  self.obj[item] = s\n"
     ]
    }
   ],
   "source": [
    "for idx, row in new.iterrows():\n",
    "    try:\n",
    "        artist_id = sp.search(q='artist:'+row['song_artist'])['tracks']['items'][0]['album']['artists'][0]['id']\n",
    "        new.loc[idx,'artist_id'] = artist_id\n",
    "        new.loc[idx,'artist_genres'] = listToString(sp.artist(artist_id)['genres'])\n",
    "        new.loc[idx,'artist_followers']= sp.artist(artist_id)['followers']['total']\n",
    "        new.loc[idx,'artist_popularity']= sp.artist(artist_id)['popularity']\n",
    "    except:\n",
    "        pass\n"
   ]
  },
  {
   "cell_type": "code",
   "execution_count": 15,
   "metadata": {},
   "outputs": [],
   "source": [
    "new.to_csv('billboards_data_w_artist_data_2.csv')"
   ]
  },
  {
   "cell_type": "code",
   "execution_count": null,
   "metadata": {},
   "outputs": [],
   "source": []
  }
 ],
 "metadata": {
  "kernelspec": {
   "display_name": "Python 3",
   "language": "python",
   "name": "python3"
  },
  "language_info": {
   "codemirror_mode": {
    "name": "ipython",
    "version": 3
   },
   "file_extension": ".py",
   "mimetype": "text/x-python",
   "name": "python",
   "nbconvert_exporter": "python",
   "pygments_lexer": "ipython3",
   "version": "3.8.3"
  }
 },
 "nbformat": 4,
 "nbformat_minor": 4
}

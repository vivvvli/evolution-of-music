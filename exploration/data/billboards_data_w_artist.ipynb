{
 "cells": [
  {
   "cell_type": "code",
   "execution_count": 1,
   "metadata": {},
   "outputs": [],
   "source": [
    "import numpy as np\n",
    "import matplotlib.pyplot as plt\n",
    "import pandas as pd\n",
    "import seaborn as sns\n",
    "import main\n",
    "import nbimporter\n",
    "from collections import Counter\n",
    "sp = main.sp\n",
    "\n",
    "billboards_data = pd.read_csv(\"/Users/vivianli/Documents/Data Science/evolution-of-music/exploration/data/billboards_data.csv\")"
   ]
  },
  {
   "cell_type": "code",
   "execution_count": 2,
   "metadata": {},
   "outputs": [],
   "source": [
    "def listToString(s): \n",
    "\n",
    "    # initialize an empty string\n",
    "    str1 = \", \" \n",
    "    # return string  \n",
    "    return (str1.join(s))"
   ]
  },
  {
   "cell_type": "code",
   "execution_count": 3,
   "metadata": {},
   "outputs": [],
   "source": [
    "for idx, row in billboards_data.iterrows():\n",
    "    try:\n",
    "        artist_id = sp.search(q='artist:'+row['song_artist'])['tracks']['items'][0]['album']['artists'][0]['id']\n",
    "        billboards_data.loc[idx,'artist_id'] = artist_id\n",
    "        billboards_data.loc[idx,'artist_genres'] = listToString(sp.artist(artist_id)['genres'])\n",
    "        billboards_data.loc[idx,'artist_followers']= sp.artist(artist_id)['followers']['total']\n",
    "        billboards_data.loc[idx,'artist_popularity']= sp.artist(artist_id)['popularity']\n",
    "    except:\n",
    "        pass\n"
   ]
  },
  {
   "cell_type": "markdown",
   "metadata": {},
   "source": [
    "Create a copy of data so we can manipulate this however way we want without having to reprocess the data."
   ]
  },
  {
   "cell_type": "code",
   "execution_count": 536,
   "metadata": {},
   "outputs": [],
   "source": [
    "billboards_data.to_csv('billboards_data_w_artist_data.csv')"
   ]
  },
  {
   "cell_type": "code",
   "execution_count": null,
   "metadata": {},
   "outputs": [],
   "source": []
  }
 ],
 "metadata": {
  "kernelspec": {
   "display_name": "Python 3",
   "language": "python",
   "name": "python3"
  },
  "language_info": {
   "codemirror_mode": {
    "name": "ipython",
    "version": 3
   },
   "file_extension": ".py",
   "mimetype": "text/x-python",
   "name": "python",
   "nbconvert_exporter": "python",
   "pygments_lexer": "ipython3",
   "version": "3.8.3"
  }
 },
 "nbformat": 4,
 "nbformat_minor": 4
}

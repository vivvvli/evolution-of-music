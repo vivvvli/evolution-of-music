{
 "cells": [
  {
   "cell_type": "markdown",
   "metadata": {},
   "source": [
    "# Songs genres over time\n",
    "**Author:** Vivian Li\n",
    "<br> **Achievement:** Understood the dominant genres since 2000 and how their popularity/ presence has changed over time. It is interesting to note that country music popularity has not changed much over time, whereas pop songs are on the rise."
   ]
  },
  {
   "cell_type": "markdown",
   "metadata": {},
   "source": [
    "# Loading Data"
   ]
  },
  {
   "cell_type": "code",
   "execution_count": null,
   "metadata": {},
   "outputs": [],
   "source": [
    "import numpy as np\n",
    "import matplotlib.pyplot as plt\n",
    "import pandas as pd\n",
    "import seaborn as sns\n",
    "import nbimporter\n",
    "from collections import Counter\n",
    "\n",
    "copy = pd.read_csv('/Users/vivianli/Documents/Data Science/evolution-of-music/exploration/data/billboards_data_w_artist_data.csv')\n",
    "copy2 = pd.read_csv('/Users/vivianli/Documents/Data Science/evolution-of-music/exploration/data/billboards_data_w_artist_data_2.csv')"
   ]
  },
  {
   "cell_type": "code",
   "execution_count": null,
   "metadata": {},
   "outputs": [],
   "source": [
    "copy = copy[copy['date']<'2015-01-01'].reset_index(drop=True)\n",
    "copy = copy.append(copy2)\n",
    "copy"
   ]
  },
  {
   "cell_type": "code",
   "execution_count": null,
   "metadata": {},
   "outputs": [],
   "source": [
    "copy2"
   ]
  },
  {
   "cell_type": "code",
   "execution_count": null,
   "metadata": {},
   "outputs": [],
   "source": [
    "# create year column using date\n",
    "copy['year'] = copy['date'].astype(str).str[:4]\n",
    "copy = copy[['year','artist_genres']]\n",
    "# fill in null values/ make them strings\n",
    "copy= copy.fillna('n/a')\n",
    "\n",
    "# clean up strings; get rid of whitespace in genres\n",
    "for idx,row in copy.iterrows():\n",
    "    row['artist_genres'] = row['artist_genres'].replace(\" \", \"\")\n",
    "\n",
    "# group by years to get all the genres for the songs that year\n",
    "copy = copy.groupby(['year'])['artist_genres'].apply(','.join).reset_index()"
   ]
  },
  {
   "cell_type": "code",
   "execution_count": null,
   "metadata": {},
   "outputs": [],
   "source": [
    "headers = ['year','artist_genres']\n",
    "full_list = []\n",
    "\n",
    "for idx,row in copy.iterrows():\n",
    "    year = row['year']\n",
    "    year_genres = Counter(row['artist_genres'].split(','))\n",
    "    year_genres = dict(year_genres)\n",
    "    full_list.append(year_genres)\n",
    "\n",
    "new_dataframe = pd.DataFrame(full_list)"
   ]
  },
  {
   "cell_type": "code",
   "execution_count": null,
   "metadata": {},
   "outputs": [],
   "source": [
    "new_dataframe.set_index([pd.Index(copy['year'])],inplace=True)"
   ]
  },
  {
   "cell_type": "code",
   "execution_count": null,
   "metadata": {},
   "outputs": [],
   "source": [
    "new_dataframe.drop(columns=['n/a'],inplace=True)\n",
    "new_dataframe"
   ]
  },
  {
   "cell_type": "markdown",
   "metadata": {},
   "source": [
    "Since there are too many genres for a good analysis, get the top 10 genres of all time and only include those in our data. Top 10 genres are determined by count of occurences in charts."
   ]
  },
  {
   "cell_type": "code",
   "execution_count": null,
   "metadata": {},
   "outputs": [],
   "source": [
    "sums=pd.DataFrame()\n",
    "\n",
    "for column in new_dataframe:\n",
    "    sums = sums.append([[column,new_dataframe[column].sum()]])\n",
    "\n",
    "sums = sums.sort_values([1],ascending=False).head(10)\n",
    "top_10_genres_all_time = list(sums[0])\n",
    "new_dataframe= new_dataframe[top_10_genres_all_time]"
   ]
  },
  {
   "cell_type": "markdown",
   "metadata": {},
   "source": [
    "Stacked bar graph of counts of songs per genre over time"
   ]
  },
  {
   "cell_type": "code",
   "execution_count": null,
   "metadata": {},
   "outputs": [],
   "source": [
    "new_dataframe.plot(kind='bar', stacked=True)\n",
    "plt.title(\"Genres vs Time\")\n",
    "plt.xlabel(\"Year\")\n",
    "plt.ylabel(\"Count of Songs\")"
   ]
  },
  {
   "cell_type": "markdown",
   "metadata": {},
   "source": [
    "Get percentages of each genre"
   ]
  },
  {
   "cell_type": "code",
   "execution_count": null,
   "metadata": {},
   "outputs": [],
   "source": [
    "res = new_dataframe.div(new_dataframe.sum(axis=1), axis=0)\n",
    "res.plot(kind='bar', stacked=True)\n",
    "plt.title(\"Genres vs Time\")\n",
    "plt.xlabel(\"Year\")\n",
    "plt.ylabel(\"Count of Songs\")"
   ]
  },
  {
   "cell_type": "markdown",
   "metadata": {},
   "source": [
    "Notes from the above chart:\n",
    "- dancepop, country, contemporary country, country road trends seem fairly consistent over the years\n",
    "- r&b, pop rock, urban contemporary have been steadily decreasing in popularity\n",
    "- post teenpop and pop are on the rise"
   ]
  }
 ],
 "metadata": {
  "kernelspec": {
   "display_name": "Python 3",
   "language": "python",
   "name": "python3"
  },
  "language_info": {
   "codemirror_mode": {
    "name": "ipython",
    "version": 3
   },
   "file_extension": ".py",
   "mimetype": "text/x-python",
   "name": "python",
   "nbconvert_exporter": "python",
   "pygments_lexer": "ipython3",
   "version": "3.8.3"
  }
 },
 "nbformat": 4,
 "nbformat_minor": 4
}
